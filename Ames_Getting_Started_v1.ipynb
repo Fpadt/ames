{
  "cells": [
    {
      "attachments": {},
      "cell_type": "raw",
      "metadata": {
        "tags": []
      },
      "source": [
        "---\n",
        "title : Ames Housing\n",
        "author: D.Kapitan\n",
        "date  : '14 Nov 2021'\n",
        "format:\n",
        "  html:\n",
        "    code-fold: true\n",
        "execute: \n",
        "  enabled: false\n",
        "---"
      ]
    },
    {
      "attachments": {},
      "cell_type": "markdown",
      "metadata": {},
      "source": [
        "# Getting started with Ames housing dataset on Google Colab"
      ]
    },
    {
      "attachments": {},
      "cell_type": "markdown",
      "metadata": {
        "id": "CXL64K5Ton3o"
      },
      "source": [
        "## Some useful short-cuts\n",
        "Comment out code (win): CTRL + /\n",
        "\n",
        "Comment out code (OSX): CMD + /\n",
        "\n",
        "Execute cell (win/OSX): SHFT + Enter"
      ]
    },
    {
      "attachments": {},
      "cell_type": "markdown",
      "metadata": {
        "id": "5xHqofBMthpc"
      },
      "source": [
        "## Import libraries"
      ]
    },
    {
      "cell_type": "code",
      "execution_count": 30,
      "metadata": {
        "id": "zjVXjSe5lRsk"
      },
      "outputs": [],
      "source": [
        "# Main libraries.\n",
        "import pandas as pd\n",
        "import numpy as np\n",
        "import matplotlib.pyplot as plt\n",
        "\n",
        "# Library to connect Colab with Google Drive.\n",
        "# from google.colab import drive"
      ]
    },
    {
      "attachments": {},
      "cell_type": "markdown",
      "metadata": {
        "id": "anire_DHto-x"
      },
      "source": [
        "## Mount Google Drive to Colab"
      ]
    },
    {
      "cell_type": "code",
      "execution_count": null,
      "metadata": {
        "colab": {
          "base_uri": "https://localhost:8080/"
        },
        "id": "UStoTiaNV5KT",
        "outputId": "277c07bc-8a9d-4508-cfb8-5aae8601cde3"
      },
      "outputs": [
        {
          "name": "stdout",
          "output_type": "stream",
          "text": [
            "Drive already mounted at /content/drive; to attempt to forcibly remount, call drive.mount(\"/content/drive\", force_remount=True).\n"
          ]
        }
      ],
      "source": [
        "drive.mount('/content/drive')"
      ]
    },
    {
      "attachments": {},
      "cell_type": "markdown",
      "metadata": {},
      "source": [
        "## Spell Checker for Python\n",
        "\n",
        "[stackoverflow](https://stackoverflow.com/questions/13928155/spell-checker-for-python)\n",
        "\n",
        "\n"
      ]
    },
    {
      "attachments": {},
      "cell_type": "markdown",
      "metadata": {
        "id": "HDjfHm4Kph_P"
      },
      "source": [
        "## Load 'Ames Housing' Data - demonstrating three different ways\n",
        "\n",
        "1 - Click on the 'AmesHousing.csv' file in the ['ames-housing'](https://github.com/jads-nl/discover-projects/tree/main/ames-housing) repo on GitHub. Click on the **Raw** button. Copy the link in the URL bar. Paste the link in the Pandas function 'read_csv()': \n"
      ]
    },
    {
      "cell_type": "code",
      "execution_count": 5,
      "metadata": {
        "id": "elo5-9cVxJYk"
      },
      "outputs": [],
      "source": [
        "df_original = pd.read_csv('https://raw.githubusercontent.com/jads-nl/discover-projects/main/ames-housing/AmesHousing.csv')"
      ]
    },
    {
      "attachments": {},
      "cell_type": "markdown",
      "metadata": {
        "id": "iHSn_9ZSzZz6"
      },
      "source": [
        "2 - Right click on the 'AmesHousing.csv' file in the ['ames-housing'](https://github.com/jads-nl/discover-projects/tree/main/ames-housing) repo on GitHub, and copy link to the file. Paste the link in the Pandas function 'read_csv' and add '?raw=True': \n"
      ]
    },
    {
      "cell_type": "code",
      "execution_count": 6,
      "metadata": {
        "id": "kQA1AElFzS4k"
      },
      "outputs": [],
      "source": [
        "df_original = pd.read_csv('https://github.com/jads-nl/discover-projects/blob/main/ames-housing/AmesHousing.csv'+'?raw=True')"
      ]
    },
    {
      "attachments": {},
      "cell_type": "markdown",
      "metadata": {
        "id": "8SLs4rP65-El"
      },
      "source": [
        "3 - In case the csv file is located on your Google Drive and you have mounted your GoogleDrive to Colab, add a link to the concerned file in the Pandas function 'read_csv'. Of course, in your case the csv file will most likely have a different path:"
      ]
    },
    {
      "cell_type": "code",
      "execution_count": 38,
      "metadata": {
        "id": "JpdGqseI59qX"
      },
      "outputs": [],
      "source": [
        "#df_original = pd.read_csv('drive/MyDrive/Colab Notebooks/2021 05 - Foundation II/AmesHousing.csv')"
      ]
    },
    {
      "attachments": {},
      "cell_type": "markdown",
      "metadata": {
        "id": "fyBac4Jl6vnN"
      },
      "source": [
        "Make copy of original data, so you have the original data for reference later if needed."
      ]
    },
    {
      "cell_type": "code",
      "execution_count": 7,
      "metadata": {
        "id": "BgcNtl1u6ugk"
      },
      "outputs": [],
      "source": [
        "df = df_original.copy()"
      ]
    },
    {
      "attachments": {},
      "cell_type": "markdown",
      "metadata": {
        "id": "v5WDpD3ircs1"
      },
      "source": [
        "## Few basic functions to check the data"
      ]
    },
    {
      "cell_type": "code",
      "execution_count": 13,
      "metadata": {
        "colab": {
          "base_uri": "https://localhost:8080/"
        },
        "id": "6_s235qZ6A1k",
        "outputId": "160ad899-2e99-42aa-9d24-0a6e1a7ef074"
      },
      "outputs": [
        {
          "data": {
            "text/plain": [
              "(2930, 82)"
            ]
          },
          "execution_count": 13,
          "metadata": {},
          "output_type": "execute_result"
        }
      ],
      "source": [
        "# Show dimensions of the data frame.\n",
        "df.shape"
      ]
    },
    {
      "cell_type": "code",
      "execution_count": 14,
      "metadata": {
        "id": "n-Y_Jyqa8hkG"
      },
      "outputs": [
        {
          "name": "stdout",
          "output_type": "stream",
          "text": [
            "<class 'pandas.core.frame.DataFrame'>\n",
            "RangeIndex: 2930 entries, 0 to 2929\n",
            "Data columns (total 82 columns):\n",
            " #   Column           Non-Null Count  Dtype  \n",
            "---  ------           --------------  -----  \n",
            " 0   Order            2930 non-null   int64  \n",
            " 1   PID              2930 non-null   int64  \n",
            " 2   MS SubClass      2930 non-null   int64  \n",
            " 3   MS Zoning        2930 non-null   object \n",
            " 4   Lot Frontage     2440 non-null   float64\n",
            " 5   Lot Area         2930 non-null   int64  \n",
            " 6   Street           2930 non-null   object \n",
            " 7   Alley            198 non-null    object \n",
            " 8   Lot Shape        2930 non-null   object \n",
            " 9   Land Contour     2930 non-null   object \n",
            " 10  Utilities        2930 non-null   object \n",
            " 11  Lot Config       2930 non-null   object \n",
            " 12  Land Slope       2930 non-null   object \n",
            " 13  Neighborhood     2930 non-null   object \n",
            " 14  Condition 1      2930 non-null   object \n",
            " 15  Condition 2      2930 non-null   object \n",
            " 16  Bldg Type        2930 non-null   object \n",
            " 17  House Style      2930 non-null   object \n",
            " 18  Overall Qual     2930 non-null   int64  \n",
            " 19  Overall Cond     2930 non-null   int64  \n",
            " 20  Year Built       2930 non-null   int64  \n",
            " 21  Year Remod/Add   2930 non-null   int64  \n",
            " 22  Roof Style       2930 non-null   object \n",
            " 23  Roof Matl        2930 non-null   object \n",
            " 24  Exterior 1st     2930 non-null   object \n",
            " 25  Exterior 2nd     2930 non-null   object \n",
            " 26  Mas Vnr Type     1155 non-null   object \n",
            " 27  Mas Vnr Area     2907 non-null   float64\n",
            " 28  Exter Qual       2930 non-null   object \n",
            " 29  Exter Cond       2930 non-null   object \n",
            " 30  Foundation       2930 non-null   object \n",
            " 31  Bsmt Qual        2850 non-null   object \n",
            " 32  Bsmt Cond        2850 non-null   object \n",
            " 33  Bsmt Exposure    2847 non-null   object \n",
            " 34  BsmtFin Type 1   2850 non-null   object \n",
            " 35  BsmtFin SF 1     2929 non-null   float64\n",
            " 36  BsmtFin Type 2   2849 non-null   object \n",
            " 37  BsmtFin SF 2     2929 non-null   float64\n",
            " 38  Bsmt Unf SF      2929 non-null   float64\n",
            " 39  Total Bsmt SF    2929 non-null   float64\n",
            " 40  Heating          2930 non-null   object \n",
            " 41  Heating QC       2930 non-null   object \n",
            " 42  Central Air      2930 non-null   object \n",
            " 43  Electrical       2929 non-null   object \n",
            " 44  1st Flr SF       2930 non-null   int64  \n",
            " 45  2nd Flr SF       2930 non-null   int64  \n",
            " 46  Low Qual Fin SF  2930 non-null   int64  \n",
            " 47  Gr Liv Area      2930 non-null   int64  \n",
            " 48  Bsmt Full Bath   2928 non-null   float64\n",
            " 49  Bsmt Half Bath   2928 non-null   float64\n",
            " 50  Full Bath        2930 non-null   int64  \n",
            " 51  Half Bath        2930 non-null   int64  \n",
            " 52  Bedroom AbvGr    2930 non-null   int64  \n",
            " 53  Kitchen AbvGr    2930 non-null   int64  \n",
            " 54  Kitchen Qual     2930 non-null   object \n",
            " 55  TotRms AbvGrd    2930 non-null   int64  \n",
            " 56  Functional       2930 non-null   object \n",
            " 57  Fireplaces       2930 non-null   int64  \n",
            " 58  Fireplace Qu     1508 non-null   object \n",
            " 59  Garage Type      2773 non-null   object \n",
            " 60  Garage Yr Blt    2771 non-null   float64\n",
            " 61  Garage Finish    2771 non-null   object \n",
            " 62  Garage Cars      2929 non-null   float64\n",
            " 63  Garage Area      2929 non-null   float64\n",
            " 64  Garage Qual      2771 non-null   object \n",
            " 65  Garage Cond      2771 non-null   object \n",
            " 66  Paved Drive      2930 non-null   object \n",
            " 67  Wood Deck SF     2930 non-null   int64  \n",
            " 68  Open Porch SF    2930 non-null   int64  \n",
            " 69  Enclosed Porch   2930 non-null   int64  \n",
            " 70  3Ssn Porch       2930 non-null   int64  \n",
            " 71  Screen Porch     2930 non-null   int64  \n",
            " 72  Pool Area        2930 non-null   int64  \n",
            " 73  Pool QC          13 non-null     object \n",
            " 74  Fence            572 non-null    object \n",
            " 75  Misc Feature     106 non-null    object \n",
            " 76  Misc Val         2930 non-null   int64  \n",
            " 77  Mo Sold          2930 non-null   int64  \n",
            " 78  Yr Sold          2930 non-null   int64  \n",
            " 79  Sale Type        2930 non-null   object \n",
            " 80  Sale Condition   2930 non-null   object \n",
            " 81  SalePrice        2930 non-null   int64  \n",
            "dtypes: float64(11), int64(28), object(43)\n",
            "memory usage: 1.8+ MB\n"
          ]
        }
      ],
      "source": [
        "# Show key information of each of the columns in the data frame\n",
        "df.info()"
      ]
    },
    {
      "cell_type": "code",
      "execution_count": 15,
      "metadata": {
        "colab": {
          "base_uri": "https://localhost:8080/",
          "height": 334
        },
        "id": "BrPbcB4H9L32",
        "outputId": "b03088c7-112b-48f5-b43d-f21abc6c025b"
      },
      "outputs": [
        {
          "data": {
            "text/html": [
              "<div>\n",
              "<style scoped>\n",
              "    .dataframe tbody tr th:only-of-type {\n",
              "        vertical-align: middle;\n",
              "    }\n",
              "\n",
              "    .dataframe tbody tr th {\n",
              "        vertical-align: top;\n",
              "    }\n",
              "\n",
              "    .dataframe thead th {\n",
              "        text-align: right;\n",
              "    }\n",
              "</style>\n",
              "<table border=\"1\" class=\"dataframe\">\n",
              "  <thead>\n",
              "    <tr style=\"text-align: right;\">\n",
              "      <th></th>\n",
              "      <th>Order</th>\n",
              "      <th>PID</th>\n",
              "      <th>MS SubClass</th>\n",
              "      <th>Lot Frontage</th>\n",
              "      <th>Lot Area</th>\n",
              "      <th>Overall Qual</th>\n",
              "      <th>Overall Cond</th>\n",
              "      <th>Year Built</th>\n",
              "      <th>Year Remod/Add</th>\n",
              "      <th>Mas Vnr Area</th>\n",
              "      <th>...</th>\n",
              "      <th>Wood Deck SF</th>\n",
              "      <th>Open Porch SF</th>\n",
              "      <th>Enclosed Porch</th>\n",
              "      <th>3Ssn Porch</th>\n",
              "      <th>Screen Porch</th>\n",
              "      <th>Pool Area</th>\n",
              "      <th>Misc Val</th>\n",
              "      <th>Mo Sold</th>\n",
              "      <th>Yr Sold</th>\n",
              "      <th>SalePrice</th>\n",
              "    </tr>\n",
              "  </thead>\n",
              "  <tbody>\n",
              "    <tr>\n",
              "      <th>count</th>\n",
              "      <td>2930.00000</td>\n",
              "      <td>2.930000e+03</td>\n",
              "      <td>2930.000000</td>\n",
              "      <td>2440.000000</td>\n",
              "      <td>2930.000000</td>\n",
              "      <td>2930.000000</td>\n",
              "      <td>2930.000000</td>\n",
              "      <td>2930.000000</td>\n",
              "      <td>2930.000000</td>\n",
              "      <td>2907.000000</td>\n",
              "      <td>...</td>\n",
              "      <td>2930.000000</td>\n",
              "      <td>2930.000000</td>\n",
              "      <td>2930.000000</td>\n",
              "      <td>2930.000000</td>\n",
              "      <td>2930.000000</td>\n",
              "      <td>2930.000000</td>\n",
              "      <td>2930.000000</td>\n",
              "      <td>2930.000000</td>\n",
              "      <td>2930.000000</td>\n",
              "      <td>2930.000000</td>\n",
              "    </tr>\n",
              "    <tr>\n",
              "      <th>mean</th>\n",
              "      <td>1465.50000</td>\n",
              "      <td>7.144645e+08</td>\n",
              "      <td>57.387372</td>\n",
              "      <td>69.224590</td>\n",
              "      <td>10147.921843</td>\n",
              "      <td>6.094881</td>\n",
              "      <td>5.563140</td>\n",
              "      <td>1971.356314</td>\n",
              "      <td>1984.266553</td>\n",
              "      <td>101.896801</td>\n",
              "      <td>...</td>\n",
              "      <td>93.751877</td>\n",
              "      <td>47.533447</td>\n",
              "      <td>23.011604</td>\n",
              "      <td>2.592491</td>\n",
              "      <td>16.002048</td>\n",
              "      <td>2.243345</td>\n",
              "      <td>50.635154</td>\n",
              "      <td>6.216041</td>\n",
              "      <td>2007.790444</td>\n",
              "      <td>180796.060068</td>\n",
              "    </tr>\n",
              "    <tr>\n",
              "      <th>std</th>\n",
              "      <td>845.96247</td>\n",
              "      <td>1.887308e+08</td>\n",
              "      <td>42.638025</td>\n",
              "      <td>23.365335</td>\n",
              "      <td>7880.017759</td>\n",
              "      <td>1.411026</td>\n",
              "      <td>1.111537</td>\n",
              "      <td>30.245361</td>\n",
              "      <td>20.860286</td>\n",
              "      <td>179.112611</td>\n",
              "      <td>...</td>\n",
              "      <td>126.361562</td>\n",
              "      <td>67.483400</td>\n",
              "      <td>64.139059</td>\n",
              "      <td>25.141331</td>\n",
              "      <td>56.087370</td>\n",
              "      <td>35.597181</td>\n",
              "      <td>566.344288</td>\n",
              "      <td>2.714492</td>\n",
              "      <td>1.316613</td>\n",
              "      <td>79886.692357</td>\n",
              "    </tr>\n",
              "    <tr>\n",
              "      <th>min</th>\n",
              "      <td>1.00000</td>\n",
              "      <td>5.263011e+08</td>\n",
              "      <td>20.000000</td>\n",
              "      <td>21.000000</td>\n",
              "      <td>1300.000000</td>\n",
              "      <td>1.000000</td>\n",
              "      <td>1.000000</td>\n",
              "      <td>1872.000000</td>\n",
              "      <td>1950.000000</td>\n",
              "      <td>0.000000</td>\n",
              "      <td>...</td>\n",
              "      <td>0.000000</td>\n",
              "      <td>0.000000</td>\n",
              "      <td>0.000000</td>\n",
              "      <td>0.000000</td>\n",
              "      <td>0.000000</td>\n",
              "      <td>0.000000</td>\n",
              "      <td>0.000000</td>\n",
              "      <td>1.000000</td>\n",
              "      <td>2006.000000</td>\n",
              "      <td>12789.000000</td>\n",
              "    </tr>\n",
              "    <tr>\n",
              "      <th>25%</th>\n",
              "      <td>733.25000</td>\n",
              "      <td>5.284770e+08</td>\n",
              "      <td>20.000000</td>\n",
              "      <td>58.000000</td>\n",
              "      <td>7440.250000</td>\n",
              "      <td>5.000000</td>\n",
              "      <td>5.000000</td>\n",
              "      <td>1954.000000</td>\n",
              "      <td>1965.000000</td>\n",
              "      <td>0.000000</td>\n",
              "      <td>...</td>\n",
              "      <td>0.000000</td>\n",
              "      <td>0.000000</td>\n",
              "      <td>0.000000</td>\n",
              "      <td>0.000000</td>\n",
              "      <td>0.000000</td>\n",
              "      <td>0.000000</td>\n",
              "      <td>0.000000</td>\n",
              "      <td>4.000000</td>\n",
              "      <td>2007.000000</td>\n",
              "      <td>129500.000000</td>\n",
              "    </tr>\n",
              "    <tr>\n",
              "      <th>50%</th>\n",
              "      <td>1465.50000</td>\n",
              "      <td>5.354536e+08</td>\n",
              "      <td>50.000000</td>\n",
              "      <td>68.000000</td>\n",
              "      <td>9436.500000</td>\n",
              "      <td>6.000000</td>\n",
              "      <td>5.000000</td>\n",
              "      <td>1973.000000</td>\n",
              "      <td>1993.000000</td>\n",
              "      <td>0.000000</td>\n",
              "      <td>...</td>\n",
              "      <td>0.000000</td>\n",
              "      <td>27.000000</td>\n",
              "      <td>0.000000</td>\n",
              "      <td>0.000000</td>\n",
              "      <td>0.000000</td>\n",
              "      <td>0.000000</td>\n",
              "      <td>0.000000</td>\n",
              "      <td>6.000000</td>\n",
              "      <td>2008.000000</td>\n",
              "      <td>160000.000000</td>\n",
              "    </tr>\n",
              "    <tr>\n",
              "      <th>75%</th>\n",
              "      <td>2197.75000</td>\n",
              "      <td>9.071811e+08</td>\n",
              "      <td>70.000000</td>\n",
              "      <td>80.000000</td>\n",
              "      <td>11555.250000</td>\n",
              "      <td>7.000000</td>\n",
              "      <td>6.000000</td>\n",
              "      <td>2001.000000</td>\n",
              "      <td>2004.000000</td>\n",
              "      <td>164.000000</td>\n",
              "      <td>...</td>\n",
              "      <td>168.000000</td>\n",
              "      <td>70.000000</td>\n",
              "      <td>0.000000</td>\n",
              "      <td>0.000000</td>\n",
              "      <td>0.000000</td>\n",
              "      <td>0.000000</td>\n",
              "      <td>0.000000</td>\n",
              "      <td>8.000000</td>\n",
              "      <td>2009.000000</td>\n",
              "      <td>213500.000000</td>\n",
              "    </tr>\n",
              "    <tr>\n",
              "      <th>max</th>\n",
              "      <td>2930.00000</td>\n",
              "      <td>1.007100e+09</td>\n",
              "      <td>190.000000</td>\n",
              "      <td>313.000000</td>\n",
              "      <td>215245.000000</td>\n",
              "      <td>10.000000</td>\n",
              "      <td>9.000000</td>\n",
              "      <td>2010.000000</td>\n",
              "      <td>2010.000000</td>\n",
              "      <td>1600.000000</td>\n",
              "      <td>...</td>\n",
              "      <td>1424.000000</td>\n",
              "      <td>742.000000</td>\n",
              "      <td>1012.000000</td>\n",
              "      <td>508.000000</td>\n",
              "      <td>576.000000</td>\n",
              "      <td>800.000000</td>\n",
              "      <td>17000.000000</td>\n",
              "      <td>12.000000</td>\n",
              "      <td>2010.000000</td>\n",
              "      <td>755000.000000</td>\n",
              "    </tr>\n",
              "  </tbody>\n",
              "</table>\n",
              "<p>8 rows × 39 columns</p>\n",
              "</div>"
            ],
            "text/plain": [
              "            Order           PID  MS SubClass  Lot Frontage       Lot Area  \\\n",
              "count  2930.00000  2.930000e+03  2930.000000   2440.000000    2930.000000   \n",
              "mean   1465.50000  7.144645e+08    57.387372     69.224590   10147.921843   \n",
              "std     845.96247  1.887308e+08    42.638025     23.365335    7880.017759   \n",
              "min       1.00000  5.263011e+08    20.000000     21.000000    1300.000000   \n",
              "25%     733.25000  5.284770e+08    20.000000     58.000000    7440.250000   \n",
              "50%    1465.50000  5.354536e+08    50.000000     68.000000    9436.500000   \n",
              "75%    2197.75000  9.071811e+08    70.000000     80.000000   11555.250000   \n",
              "max    2930.00000  1.007100e+09   190.000000    313.000000  215245.000000   \n",
              "\n",
              "       Overall Qual  Overall Cond   Year Built  Year Remod/Add  Mas Vnr Area  \\\n",
              "count   2930.000000   2930.000000  2930.000000     2930.000000   2907.000000   \n",
              "mean       6.094881      5.563140  1971.356314     1984.266553    101.896801   \n",
              "std        1.411026      1.111537    30.245361       20.860286    179.112611   \n",
              "min        1.000000      1.000000  1872.000000     1950.000000      0.000000   \n",
              "25%        5.000000      5.000000  1954.000000     1965.000000      0.000000   \n",
              "50%        6.000000      5.000000  1973.000000     1993.000000      0.000000   \n",
              "75%        7.000000      6.000000  2001.000000     2004.000000    164.000000   \n",
              "max       10.000000      9.000000  2010.000000     2010.000000   1600.000000   \n",
              "\n",
              "       ...  Wood Deck SF  Open Porch SF  Enclosed Porch   3Ssn Porch  \\\n",
              "count  ...   2930.000000    2930.000000     2930.000000  2930.000000   \n",
              "mean   ...     93.751877      47.533447       23.011604     2.592491   \n",
              "std    ...    126.361562      67.483400       64.139059    25.141331   \n",
              "min    ...      0.000000       0.000000        0.000000     0.000000   \n",
              "25%    ...      0.000000       0.000000        0.000000     0.000000   \n",
              "50%    ...      0.000000      27.000000        0.000000     0.000000   \n",
              "75%    ...    168.000000      70.000000        0.000000     0.000000   \n",
              "max    ...   1424.000000     742.000000     1012.000000   508.000000   \n",
              "\n",
              "       Screen Porch    Pool Area      Misc Val      Mo Sold      Yr Sold  \\\n",
              "count   2930.000000  2930.000000   2930.000000  2930.000000  2930.000000   \n",
              "mean      16.002048     2.243345     50.635154     6.216041  2007.790444   \n",
              "std       56.087370    35.597181    566.344288     2.714492     1.316613   \n",
              "min        0.000000     0.000000      0.000000     1.000000  2006.000000   \n",
              "25%        0.000000     0.000000      0.000000     4.000000  2007.000000   \n",
              "50%        0.000000     0.000000      0.000000     6.000000  2008.000000   \n",
              "75%        0.000000     0.000000      0.000000     8.000000  2009.000000   \n",
              "max      576.000000   800.000000  17000.000000    12.000000  2010.000000   \n",
              "\n",
              "           SalePrice  \n",
              "count    2930.000000  \n",
              "mean   180796.060068  \n",
              "std     79886.692357  \n",
              "min     12789.000000  \n",
              "25%    129500.000000  \n",
              "50%    160000.000000  \n",
              "75%    213500.000000  \n",
              "max    755000.000000  \n",
              "\n",
              "[8 rows x 39 columns]"
            ]
          },
          "execution_count": 15,
          "metadata": {},
          "output_type": "execute_result"
        }
      ],
      "source": [
        "# Show statistics of numerical data:\n",
        "df.describe(include=\"number\")"
      ]
    },
    {
      "cell_type": "code",
      "execution_count": 16,
      "metadata": {
        "colab": {
          "base_uri": "https://localhost:8080/",
          "height": 227
        },
        "id": "EC6HUVku8vCV",
        "outputId": "59e113bc-55c5-4a07-a99f-0b5a3116ff63"
      },
      "outputs": [
        {
          "data": {
            "text/html": [
              "<div>\n",
              "<style scoped>\n",
              "    .dataframe tbody tr th:only-of-type {\n",
              "        vertical-align: middle;\n",
              "    }\n",
              "\n",
              "    .dataframe tbody tr th {\n",
              "        vertical-align: top;\n",
              "    }\n",
              "\n",
              "    .dataframe thead th {\n",
              "        text-align: right;\n",
              "    }\n",
              "</style>\n",
              "<table border=\"1\" class=\"dataframe\">\n",
              "  <thead>\n",
              "    <tr style=\"text-align: right;\">\n",
              "      <th></th>\n",
              "      <th>MS Zoning</th>\n",
              "      <th>Street</th>\n",
              "      <th>Alley</th>\n",
              "      <th>Lot Shape</th>\n",
              "      <th>Land Contour</th>\n",
              "      <th>Utilities</th>\n",
              "      <th>Lot Config</th>\n",
              "      <th>Land Slope</th>\n",
              "      <th>Neighborhood</th>\n",
              "      <th>Condition 1</th>\n",
              "      <th>...</th>\n",
              "      <th>Garage Type</th>\n",
              "      <th>Garage Finish</th>\n",
              "      <th>Garage Qual</th>\n",
              "      <th>Garage Cond</th>\n",
              "      <th>Paved Drive</th>\n",
              "      <th>Pool QC</th>\n",
              "      <th>Fence</th>\n",
              "      <th>Misc Feature</th>\n",
              "      <th>Sale Type</th>\n",
              "      <th>Sale Condition</th>\n",
              "    </tr>\n",
              "  </thead>\n",
              "  <tbody>\n",
              "    <tr>\n",
              "      <th>count</th>\n",
              "      <td>2930</td>\n",
              "      <td>2930</td>\n",
              "      <td>198</td>\n",
              "      <td>2930</td>\n",
              "      <td>2930</td>\n",
              "      <td>2930</td>\n",
              "      <td>2930</td>\n",
              "      <td>2930</td>\n",
              "      <td>2930</td>\n",
              "      <td>2930</td>\n",
              "      <td>...</td>\n",
              "      <td>2773</td>\n",
              "      <td>2771</td>\n",
              "      <td>2771</td>\n",
              "      <td>2771</td>\n",
              "      <td>2930</td>\n",
              "      <td>13</td>\n",
              "      <td>572</td>\n",
              "      <td>106</td>\n",
              "      <td>2930</td>\n",
              "      <td>2930</td>\n",
              "    </tr>\n",
              "    <tr>\n",
              "      <th>unique</th>\n",
              "      <td>7</td>\n",
              "      <td>2</td>\n",
              "      <td>2</td>\n",
              "      <td>4</td>\n",
              "      <td>4</td>\n",
              "      <td>3</td>\n",
              "      <td>5</td>\n",
              "      <td>3</td>\n",
              "      <td>28</td>\n",
              "      <td>9</td>\n",
              "      <td>...</td>\n",
              "      <td>6</td>\n",
              "      <td>3</td>\n",
              "      <td>5</td>\n",
              "      <td>5</td>\n",
              "      <td>3</td>\n",
              "      <td>4</td>\n",
              "      <td>4</td>\n",
              "      <td>5</td>\n",
              "      <td>10</td>\n",
              "      <td>6</td>\n",
              "    </tr>\n",
              "    <tr>\n",
              "      <th>top</th>\n",
              "      <td>RL</td>\n",
              "      <td>Pave</td>\n",
              "      <td>Grvl</td>\n",
              "      <td>Reg</td>\n",
              "      <td>Lvl</td>\n",
              "      <td>AllPub</td>\n",
              "      <td>Inside</td>\n",
              "      <td>Gtl</td>\n",
              "      <td>NAmes</td>\n",
              "      <td>Norm</td>\n",
              "      <td>...</td>\n",
              "      <td>Attchd</td>\n",
              "      <td>Unf</td>\n",
              "      <td>TA</td>\n",
              "      <td>TA</td>\n",
              "      <td>Y</td>\n",
              "      <td>Ex</td>\n",
              "      <td>MnPrv</td>\n",
              "      <td>Shed</td>\n",
              "      <td>WD</td>\n",
              "      <td>Normal</td>\n",
              "    </tr>\n",
              "    <tr>\n",
              "      <th>freq</th>\n",
              "      <td>2273</td>\n",
              "      <td>2918</td>\n",
              "      <td>120</td>\n",
              "      <td>1859</td>\n",
              "      <td>2633</td>\n",
              "      <td>2927</td>\n",
              "      <td>2140</td>\n",
              "      <td>2789</td>\n",
              "      <td>443</td>\n",
              "      <td>2522</td>\n",
              "      <td>...</td>\n",
              "      <td>1731</td>\n",
              "      <td>1231</td>\n",
              "      <td>2615</td>\n",
              "      <td>2665</td>\n",
              "      <td>2652</td>\n",
              "      <td>4</td>\n",
              "      <td>330</td>\n",
              "      <td>95</td>\n",
              "      <td>2536</td>\n",
              "      <td>2413</td>\n",
              "    </tr>\n",
              "  </tbody>\n",
              "</table>\n",
              "<p>4 rows × 43 columns</p>\n",
              "</div>"
            ],
            "text/plain": [
              "       MS Zoning Street Alley Lot Shape Land Contour Utilities Lot Config  \\\n",
              "count       2930   2930   198      2930         2930      2930       2930   \n",
              "unique         7      2     2         4            4         3          5   \n",
              "top           RL   Pave  Grvl       Reg          Lvl    AllPub     Inside   \n",
              "freq        2273   2918   120      1859         2633      2927       2140   \n",
              "\n",
              "       Land Slope Neighborhood Condition 1  ... Garage Type Garage Finish  \\\n",
              "count        2930         2930        2930  ...        2773          2771   \n",
              "unique          3           28           9  ...           6             3   \n",
              "top           Gtl        NAmes        Norm  ...      Attchd           Unf   \n",
              "freq         2789          443        2522  ...        1731          1231   \n",
              "\n",
              "       Garage Qual Garage Cond Paved Drive Pool QC  Fence Misc Feature  \\\n",
              "count         2771        2771        2930      13    572          106   \n",
              "unique           5           5           3       4      4            5   \n",
              "top             TA          TA           Y      Ex  MnPrv         Shed   \n",
              "freq          2615        2665        2652       4    330           95   \n",
              "\n",
              "       Sale Type Sale Condition  \n",
              "count       2930           2930  \n",
              "unique        10              6  \n",
              "top          WD          Normal  \n",
              "freq        2536           2413  \n",
              "\n",
              "[4 rows x 43 columns]"
            ]
          },
          "execution_count": 16,
          "metadata": {},
          "output_type": "execute_result"
        }
      ],
      "source": [
        "df.describe(include=\"object\")"
      ]
    },
    {
      "cell_type": "code",
      "execution_count": 17,
      "metadata": {
        "colab": {
          "base_uri": "https://localhost:8080/",
          "height": 999
        },
        "id": "7AHD2u_n54o0",
        "outputId": "95a2449f-fa4a-49fc-a861-c16352173244"
      },
      "outputs": [
        {
          "data": {
            "text/plain": [
              "<Figure size 2800x1000 with 0 Axes>"
            ]
          },
          "metadata": {},
          "output_type": "display_data"
        },
        {
          "data": {
            "image/png": "[encoded data removed]",
            "text/plain": [
              "<Figure size 640x480 with 42 Axes>"
            ]
          },
          "metadata": {},
          "output_type": "display_data"
        }
      ],
      "source": [
        "# Set default figure size.\n",
        "plt.figure(figsize=(28,10))\n",
        "\n",
        "# Show histogram\n",
        "df.hist();"
      ]
    },
    {
      "attachments": {},
      "cell_type": "markdown",
      "metadata": {
        "id": "n76IRAEfBzuf"
      },
      "source": [
        "## Show columns with missing data"
      ]
    },
    {
      "cell_type": "code",
      "execution_count": null,
      "metadata": {
        "colab": {
          "base_uri": "https://localhost:8080/",
          "height": 669
        },
        "id": "OqNPl5S0AhCO",
        "outputId": "779bf31f-01a3-4987-9625-f50118f34869"
      },
      "outputs": [],
      "source": [
        "# Number of missing values for each column:\n",
        "v_total_missing   = df.isnull().sum()\n",
        "\n",
        "# Percentage out of total elements in each column (= df.shape[0]):\n",
        "v_percent_missing = round(\n",
        "    \n",
        "    v_total_missing / df.shape[0] * 100,\n",
        "                          \n",
        "    ndigits = 1)\n",
        "\n",
        "# Type of data for each column:\n",
        "v_missing_type    = df.dtypes\n",
        "\n",
        "# Create data frame showing statistics per column:\n",
        "df_missing_data   = pd.DataFrame(\n",
        "    \n",
        "    {'type': v_missing_type,\n",
        "     'total': v_total_missing,\n",
        "     'percent': v_percent_missing})\n",
        "\n",
        "# Sort data frame by 'total' (descending order):\n",
        "df_missing_data   = df_missing_data.sort_values(by='total', ascending = False)\n",
        "\n",
        "# Show first n columns with highest number of missing data:\n",
        "df_missing_data.head(n=20)"
      ]
    },
    {
      "attachments": {},
      "cell_type": "markdown",
      "metadata": {
        "id": "30dkjk_nJBQy"
      },
      "source": [
        "### Replace empty cells (NA) by other value.\n",
        "Suppose we want to apply a different strategy to number and object data."
      ]
    },
    {
      "cell_type": "code",
      "execution_count": 22,
      "metadata": {
        "colab": {
          "base_uri": "https://localhost:8080/"
        },
        "id": "ZISGsG7vpt4k",
        "outputId": "a1e4c6f1-68d4-4c2c-c68a-62e55f90e730"
      },
      "outputs": [
        {
          "name": "stdout",
          "output_type": "stream",
          "text": [
            "39 43 82 82\n"
          ]
        }
      ],
      "source": [
        "# Let's first split the data frame in two data frames:\n",
        "\n",
        "# Numbers:\n",
        "df_number = df.select_dtypes(include = \"number\")\n",
        "\n",
        "# Objects:\n",
        "df_object = df.select_dtypes(exclude = \"number\")\n",
        "\n",
        "# Show that the two data frames together contains as many columns as df:\n",
        "print(\n",
        "    df_number.shape[1],\n",
        "    df_object.shape[1],\n",
        "    df_number.shape[1] + df_object.shape[1],\n",
        "    df.shape[1])"
      ]
    },
    {
      "attachments": {},
      "cell_type": "markdown",
      "metadata": {
        "id": "UzinQMKlEkIo"
      },
      "source": [
        "### Replace NA's in number data by median\n",
        "We demonstrate two different approaches. The 'replace()' function replaces a value of choice by another value of choice. Where, the function 'fillna()' assumes we want to replace NA by another value of choice."
      ]
    },
    {
      "cell_type": "code",
      "execution_count": 23,
      "metadata": {
        "colab": {
          "base_uri": "https://localhost:8080/"
        },
        "id": "MyCBW38IEzVA",
        "outputId": "2bd30690-64ce-4d04-96f0-25f32ce13eed"
      },
      "outputs": [
        {
          "name": "stdout",
          "output_type": "stream",
          "text": [
            "682 0\n"
          ]
        }
      ],
      "source": [
        "#df_number_imputed = df_number.replace(np.nan, df_number.median())\n",
        "df_number_imputed = df_number.fillna(df_number.median())\n",
        "\n",
        "# Show that imputed data no longer contains NA:\n",
        "print(\n",
        "    df_number.isna().sum().sum(),\n",
        "    df_number_imputed.isna().sum().sum())        "
      ]
    },
    {
      "attachments": {},
      "cell_type": "markdown",
      "metadata": {
        "id": "6FB4rVHdFTIx"
      },
      "source": [
        "### Replace NA's in object data by \"100\""
      ]
    },
    {
      "cell_type": "code",
      "execution_count": 25,
      "metadata": {
        "colab": {
          "base_uri": "https://localhost:8080/"
        },
        "id": "8SwzJ-3nkSf4",
        "outputId": "59352760-1fd9-4db8-e707-c03054464485"
      },
      "outputs": [
        {
          "name": "stdout",
          "output_type": "stream",
          "text": [
            "15067 0\n"
          ]
        }
      ],
      "source": [
        "#df_object_imputed = df_object.replace(np.nan, \"100\")\n",
        "df_object_imputed = df_object.fillna(\"100\")\n",
        "\n",
        "# Show that imputed data no longer contains NA:\n",
        "print(\n",
        "    df_object.isna().sum().sum(),\n",
        "    df_object_imputed.isna().sum().sum())   "
      ]
    },
    {
      "cell_type": "code",
      "execution_count": 26,
      "metadata": {
        "colab": {
          "base_uri": "https://localhost:8080/"
        },
        "id": "ZhjxP0qXHKV7",
        "outputId": "917a80ef-ff43-4bd9-d300-26430b03cc2c"
      },
      "outputs": [
        {
          "name": "stdout",
          "output_type": "stream",
          "text": [
            "(2930, 82) (2930, 82)\n"
          ]
        }
      ],
      "source": [
        "# Put the two imputed data frames together again:\n",
        "df_imputed = pd.concat([df_number_imputed, df_object_imputed], axis = 1)\n",
        "\n",
        "print(\n",
        "    df_imputed.shape,\n",
        "    df.shape)"
      ]
    }
  ],
  "metadata": {
    "colab": {
      "collapsed_sections": [
        "8ydu7E_z0TIe"
      ],
      "name": "Ames - Getting Started - v1",
      "provenance": []
    },
    "kernelspec": {
      "display_name": "Python 3",
      "name": "python3"
    },
    "language_info": {
      "codemirror_mode": {
        "name": "ipython",
        "version": 3
      },
      "file_extension": ".py",
      "mimetype": "text/x-python",
      "name": "python",
      "nbconvert_exporter": "python",
      "pygments_lexer": "ipython3",
      "version": "3.11.3"
    }
  },
  "nbformat": 4,
  "nbformat_minor": 0
}
